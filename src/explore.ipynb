{
    "cells": [
        {
            "cell_type": "markdown",
            "metadata": {},
            "source": [
                "# Explore here"
            ]
        },
        {
            "cell_type": "code",
            "execution_count": 2,
            "metadata": {},
            "outputs": [],
            "source": [
                "#Librerias \n",
                "import pandas as pd\n",
                "\n"
            ]
        },
        {
            "cell_type": "code",
            "execution_count": 34,
            "metadata": {},
            "outputs": [
                {
                    "name": "stdout",
                    "output_type": "stream",
                    "text": [
                        "Número de filas: 3140\n",
                        "Número de columnas: 108\n"
                    ]
                }
            ],
            "source": [
                "#Cargar csv\n",
                "df=pd.read_csv(\"https://raw.githubusercontent.com/4GeeksAcademy/regularized-linear-regression-project-tutorial/main/demographic_health_data.csv\")\n",
                "pd.set_option('display.max_columns', None)\n",
                "df.head()\n",
                "num_rows, num_columns = df.shape\n",
                "print(f\"Número de filas: {num_rows}\")\n",
                "print(f\"Número de columnas: {num_columns}\")\n",
                "\n"
            ]
        },
        {
            "cell_type": "code",
            "execution_count": 36,
            "metadata": {},
            "outputs": [
                {
                    "data": {
                        "text/plain": [
                            "2466"
                        ]
                    },
                    "execution_count": 36,
                    "metadata": {},
                    "output_type": "execute_result"
                }
            ],
            "source": [
                "#EDA\n",
                "#Limpiar datos\n",
                "\n",
                "nans= df.isna()\n",
                "dupli= df.duplicated()\n",
                "df.nunique()\n",
                "nanss= df.isna().sum()\n",
                "dupli.sum()\n",
                "\n",
                "df.dropna()\n",
                "df.drop_duplicates()\n",
                "\n",
                "df[\"COUNTY_NAME\"].nunique()\n",
                "df[\"STATE_NAME\"].nunique()\n",
                "df[\"Heart disease_number\"].nunique()\n",
                "\n",
                "\n",
                "#Normalizar los datos numéricos\n",
                "\n",
                "\n",
                "\n"
            ]
        }
    ],
    "metadata": {
        "kernelspec": {
            "display_name": "Python 3.8.13 64-bit ('3.8.13')",
            "language": "python",
            "name": "python3"
        },
        "language_info": {
            "codemirror_mode": {
                "name": "ipython",
                "version": 3
            },
            "file_extension": ".py",
            "mimetype": "text/x-python",
            "name": "python",
            "nbconvert_exporter": "python",
            "pygments_lexer": "ipython3",
            "version": "3.12.6"
        },
        "orig_nbformat": 4,
        "vscode": {
            "interpreter": {
                "hash": "110cc1dee26208153f2972f08a2ad52b6a56238dc66d48e87fb757ef2996db56"
            }
        }
    },
    "nbformat": 4,
    "nbformat_minor": 2
}
